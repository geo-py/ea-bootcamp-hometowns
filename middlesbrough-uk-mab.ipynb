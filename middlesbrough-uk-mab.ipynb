I grew up on the outskirts of Middlesbrough in the UK. Land of smog, decay and filth. May the sun one day shine on you.
